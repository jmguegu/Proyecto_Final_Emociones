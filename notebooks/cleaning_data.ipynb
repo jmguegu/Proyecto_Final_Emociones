{
 "cells": [
  {
   "cell_type": "code",
   "execution_count": null,
   "id": "75cfe1ac",
   "metadata": {},
   "outputs": [],
   "source": [
    "import pandas as pd\n",
    "import warnings\n",
    "\n",
    "warnings.simplefilter(action='ignore', category=UserWarning)\n",
    "warnings.simplefilter(action='ignore', category=FutureWarning)\n",
    "warnings.simplefilter(action='ignore', category=pd.errors.SettingWithCopyWarning)\n",
    "\n",
    "data_basepath = '..\\\\data\\\\spain_dataframes\\\\'"
   ]
  },
  {
   "cell_type": "code",
   "execution_count": null,
   "id": "0a0058e7",
   "metadata": {},
   "outputs": [],
   "source": [
    "# Leer el fichero con los datos\n",
    "df = pd.read_csv(f'{data_basepath}datos_tratados.csv')\n",
    "df"
   ]
  },
  {
   "cell_type": "markdown",
   "id": "e3d0a548",
   "metadata": {},
   "source": [
    "### Homicidios y Criminalidad --> Percepción de seguridad\n",
    "\n",
    "Se establece una nota media de la percepción de la seguridad para cada individuo, en función de la media de las notas de los homicidios y la criminalidad."
   ]
  },
  {
   "cell_type": "code",
   "execution_count": null,
   "id": "a77a6336",
   "metadata": {},
   "outputs": [],
   "source": [
    "# Valoración de una columna dentro de un rango determinado\n",
    "def valorate_numeric_column(df, column_name, new_column_name, min_rank_value=0, max_rank_value=1, revert_rank_valoration=False):\n",
    "    \"\"\"\n",
    "    Normaliza los valores de una columna de un DataFrame dentro de un rango específico y crea una nueva columna con los resultados.\n",
    "\n",
    "    La valoración se realiza de forma lineal, permitiendo definir un rango mínimo y máximo.\n",
    "    Se toman como valores extremos los valores mínimo y máximo de la columna especificada en 'column_name'.\n",
    "\n",
    "    Parámetros:\n",
    "    -----------\n",
    "    df : pandas.DataFrame\n",
    "        DataFrame que contiene la columna a normalizar.\n",
    "    column_name : str\n",
    "        Nombre de la columna que se va a normalizar.\n",
    "    new_column_name : str\n",
    "        Nombre de la nueva columna donde se almacenarán los valores normalizados.\n",
    "    min_rank_value : float, opcional (por defecto=0)\n",
    "        Valor mínimo del rango.\n",
    "    max_rank_value : float, opcional (por defecto=1)\n",
    "        Valor máximo del rango.\n",
    "    revert_rank_valoration : bool, opcional (por defecto=False)\n",
    "        Si es True, invierte la valoración (el valor más alto se convierte en el más bajo y viceversa).\n",
    "\n",
    "    Retorna:\n",
    "    --------\n",
    "    None. Modifica el DataFrame original añadiendo una nueva columna con los valores normalizados.\n",
    "    \"\"\"\n",
    "    # Valores extremos del dataframe\n",
    "    min_val = df[column_name].min()\n",
    "    max_val = df[column_name].max()\n",
    "\n",
    "    # Proporcionalidad entre el rango definido y el rango calculado\n",
    "    rank_diference = max_rank_value - min_rank_value\n",
    "\n",
    "    # Aplicar la fórmula de normalización lineal\n",
    "    if not revert_rank_valoration:\n",
    "        df[new_column_name] = ((df[column_name] - min_val) / (max_val - min_val)) * rank_diference + min_rank_value\n",
    "    else:\n",
    "        df[new_column_name] = (1 - ((df[column_name] - min_val) / (max_val - min_val))) * rank_diference + min_rank_value"
   ]
  },
  {
   "cell_type": "code",
   "execution_count": null,
   "id": "f68b70ea",
   "metadata": {},
   "outputs": [],
   "source": [
    "# Valoración de la criminalidad\n",
    "valorate_numeric_column(df, 'criminalidad_1000habit', 'valoracion_criminalidad', 0, 10, True)\n",
    "\n",
    "# Valoración de la tasa de homicidios\n",
    "valorate_numeric_column(df, 'homicidios_100mhabit', 'valoracion_homicidios', 0, 10, True)\n",
    "\n",
    "df[['criminalidad_1000habit', 'valoracion_criminalidad', 'homicidios_100mhabit', 'valoracion_homicidios']].head()"
   ]
  },
  {
   "cell_type": "code",
   "execution_count": null,
   "id": "accd8196",
   "metadata": {},
   "outputs": [],
   "source": [
    "# Hacer una valoración media \"percepcion_seguridad\" entre la criminalidad y la tasa de homicidios\n",
    "df['percepcion_seguridad'] = (df['valoracion_criminalidad'] + df['valoracion_homicidios']) / 2\n",
    "df['percepcion_seguridad']"
   ]
  },
  {
   "cell_type": "markdown",
   "id": "01c3e9c0",
   "metadata": {},
   "source": [
    "### Estado civil\n",
    "\n",
    "Se limpian los valores de estado civil, siendo soltero/a para los menores de 18 años, y el resto de valores se mantienen."
   ]
  },
  {
   "cell_type": "code",
   "execution_count": null,
   "id": "d882ed53",
   "metadata": {},
   "outputs": [],
   "source": [
    "df.loc[df['edad'] < 18, 'estado_civil'] = 'soltero/a'\n",
    "df[df['edad'] < 18]['estado_civil'].unique()"
   ]
  },
  {
   "cell_type": "markdown",
   "id": "072d0696",
   "metadata": {},
   "source": [
    "### Nivel de estudios\n",
    "\n",
    "Se limpian los valores de estudios que por edad no son coherentes con el máximo nivel de estudios alcanzado."
   ]
  },
  {
   "cell_type": "code",
   "execution_count": null,
   "id": "11abf10a",
   "metadata": {},
   "outputs": [],
   "source": [
    "df['estudios'].unique().tolist()"
   ]
  },
  {
   "cell_type": "code",
   "execution_count": null,
   "id": "ee07ca02",
   "metadata": {},
   "outputs": [],
   "source": [
    "# Se ordenan los niveles de educación de mayor a menor nivel\n",
    "ordered_education = ['educacion_superior',\n",
    "                     'segundo_secundaria_profesional_',\n",
    "                     'segundo_secundaria_general',\n",
    "                     'primero_secundaria',\n",
    "                     'primaria',\n",
    "                     'estudios_primarios_incompletos',\n",
    "                     'analfabetos']"
   ]
  },
  {
   "cell_type": "code",
   "execution_count": null,
   "id": "cb7f4be2",
   "metadata": {},
   "outputs": [],
   "source": [
    "# Se recorre todo el dataframe para comprobar registro por registro el nivel de estudios alcanzado por cada persona en función de su edad.\n",
    "iterator = 0 # Iterador entre profesional y general en secundaria\n",
    "for index, row in df.iterrows():\n",
    "    # Comprobamos el nivel de estudios máximo al que puede obtar por su edad\n",
    "\n",
    "    if row['edad'] < 10 and ordered_education.index(row['estudios']) < 5:\n",
    "        # Si es menor de 10, los máximos estudios alcanzados son estudios primarios incompletos\n",
    "        df.loc[index, 'estudios'] = ordered_education[5]\n",
    "\n",
    "    if row['edad'] < 12 and ordered_education.index(row['estudios']) < 4:\n",
    "        # Si es menor de 12, los máximos estudios alcanzados son primaria\n",
    "        df.loc[index, 'estudios'] = ordered_education[4]\n",
    "\n",
    "    elif row['edad'] < 16 and ordered_education.index(row['estudios']) < 3:\n",
    "        # Si es menor de 16, los máximos estudios alcanzados son primero de secundaria\n",
    "        df.loc[index, 'estudios'] = ordered_education[3]\n",
    "\n",
    "    elif row['edad'] < 18 and ordered_education.index(row['estudios']) < 2:\n",
    "        # Si es menor de 18, los máximos estudios alcanzados son segundo de secundaria\n",
    "        df.loc[index, 'estudios'] = ordered_education[1 + iterator]\n",
    "        iterator = 1 if iterator == 0 else 0 # Cambia entre profesional y general para la siguiente iteración"
   ]
  },
  {
   "cell_type": "code",
   "execution_count": null,
   "id": "48b8ec4d",
   "metadata": {},
   "outputs": [],
   "source": [
    "df[df['edad'] < 23]['estudios'].unique()"
   ]
  },
  {
   "cell_type": "markdown",
   "id": "89f14b21",
   "metadata": {},
   "source": [
    "### Salario anual\n",
    "\n",
    "Se establece un salario 0 para menores de 16 años."
   ]
  },
  {
   "cell_type": "code",
   "execution_count": null,
   "id": "243da131",
   "metadata": {},
   "outputs": [],
   "source": [
    "df.loc[df['edad'] < 16, 'salario_anual'] = 0"
   ]
  },
  {
   "cell_type": "markdown",
   "id": "798f3fb9",
   "metadata": {},
   "source": [
    "### Horas trabajadas al mes\n",
    "\n",
    "Se establece un valor de 0 horas trabajadas al mes para menores de 16 años."
   ]
  },
  {
   "cell_type": "code",
   "execution_count": null,
   "id": "1bcd4fd6",
   "metadata": {},
   "outputs": [],
   "source": [
    "df.loc[df['edad'] < 16, 'horasTrabajadas_mes'] = 0"
   ]
  },
  {
   "cell_type": "markdown",
   "id": "102da1fb",
   "metadata": {},
   "source": [
    "### Actividad física\n",
    "\n",
    "Se establece una actividad física `nivel_bajo` para mayores de 75 años."
   ]
  },
  {
   "cell_type": "code",
   "execution_count": null,
   "id": "05650d90",
   "metadata": {},
   "outputs": [],
   "source": [
    "df.loc[df['edad'] > 75, 'actividad_fisica'] = 'nivel_bajo'"
   ]
  },
  {
   "cell_type": "markdown",
   "id": "0c72dbf9",
   "metadata": {},
   "source": [
    "### Adecuación de columnas\n",
    "\n",
    "Se eliminará información redundante de algunas columnas."
   ]
  },
  {
   "cell_type": "code",
   "execution_count": null,
   "id": "301c3884",
   "metadata": {},
   "outputs": [],
   "source": [
    "df"
   ]
  },
  {
   "cell_type": "code",
   "execution_count": null,
   "id": "ca29faf5",
   "metadata": {},
   "outputs": [],
   "source": [
    "# Eliminar el texto \"hospitales_\" de los registros tipo string en todas las columnas\n",
    "df = df.applymap(lambda x: x.replace('hospitales_', '') if isinstance(x, str) else x)\n",
    "df = df.applymap(lambda x: x.replace('dentistas_', '') if isinstance(x, str) else x)\n",
    "df = df.applymap(lambda x: x.replace('especialistas_', '') if isinstance(x, str) else x)\n",
    "df = df.applymap(lambda x: x.replace('medGeneral_', '') if isinstance(x, str) else x)"
   ]
  },
  {
   "cell_type": "markdown",
   "id": "b036c373",
   "metadata": {},
   "source": [
    "### Eliminación de columnas\n",
    "\n",
    "Se eliminan columnas innecesarias para el análisis."
   ]
  },
  {
   "cell_type": "code",
   "execution_count": null,
   "id": "1aa2c454",
   "metadata": {},
   "outputs": [],
   "source": [
    "df.drop(columns=['valoracion_criminalidad'], inplace=True)\n",
    "df.drop(columns=['valoracion_homicidios'], inplace=True)\n",
    "df.drop(columns=['homicidios_100mhabit'], inplace=True)\n",
    "df.drop(columns=['criminalidad_1000habit'], inplace=True)"
   ]
  },
  {
   "cell_type": "code",
   "execution_count": null,
   "id": "43eefe18",
   "metadata": {},
   "outputs": [],
   "source": [
    "df"
   ]
  },
  {
   "cell_type": "markdown",
   "id": "67c36eac",
   "metadata": {},
   "source": [
    "## Guardado de los datos"
   ]
  },
  {
   "cell_type": "code",
   "execution_count": null,
   "id": "3e19bd65",
   "metadata": {},
   "outputs": [],
   "source": [
    "# Definir la ruta completa del archivo CSV\n",
    "filename = 'cleaned_data.csv'\n",
    "file_path = f'{data_basepath}..\\\\spain_dataframes\\\\{filename}'\n",
    "\n",
    "# Guardar el DataFrame en un archivo CSV\n",
    "df.to_csv(file_path, index=False)\n",
    "\n",
    "print(f\"DataFrame guardado exitosamente en '{filename}'\")"
   ]
  }
 ],
 "metadata": {
  "kernelspec": {
   "display_name": "bootcampIA_env",
   "language": "python",
   "name": "python3"
  },
  "language_info": {
   "codemirror_mode": {
    "name": "ipython",
    "version": 3
   },
   "file_extension": ".py",
   "mimetype": "text/x-python",
   "name": "python",
   "nbconvert_exporter": "python",
   "pygments_lexer": "ipython3",
   "version": "3.13.4"
  }
 },
 "nbformat": 4,
 "nbformat_minor": 5
}
